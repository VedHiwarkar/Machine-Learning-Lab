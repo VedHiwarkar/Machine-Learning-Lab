{
 "cells": [
  {
   "cell_type": "code",
   "execution_count": 1,
   "metadata": {},
   "outputs": [],
   "source": [
    "from numpy import array\n",
    "from numpy import mean\n",
    "from numpy import cov\n",
    "from numpy.linalg import eig\n",
    "import pandas as pd"
   ]
  },
  {
   "cell_type": "code",
   "execution_count": 2,
   "metadata": {},
   "outputs": [
    {
     "name": "stdout",
     "output_type": "stream",
     "text": [
      "[[3.5 2.3]\n",
      " [0.5 0.7]\n",
      " [6.2 4.9]\n",
      " [1.9 2.2]\n",
      " [3.1 3. ]\n",
      " [5.3 5.7]\n",
      " [2.  1.6]\n",
      " [1.  1.1]\n",
      " [1.5 1.6]\n",
      " [1.1 0.9]]\n"
     ]
    }
   ],
   "source": [
    "# define a matrix\n",
    "A = array([[3.5,2.3],\n",
    "           [0.5,0.7],\n",
    "           [6.2,4.9],\n",
    "           [1.9,2.2],\n",
    "           [3.1,3.0],\n",
    "           [5.3,5.7],\n",
    "           [2,1.6],\n",
    "           [1,1.1],\n",
    "           [1.5,1.6],\n",
    "           [1.1,0.9]])\n",
    "print(A)"
   ]
  },
  {
   "cell_type": "code",
   "execution_count": 3,
   "metadata": {},
   "outputs": [
    {
     "name": "stdout",
     "output_type": "stream",
     "text": [
      "[2.61 2.4 ]\n"
     ]
    }
   ],
   "source": [
    "M = mean(A.T, axis=1)\n",
    "print(M)"
   ]
  },
  {
   "cell_type": "code",
   "execution_count": 4,
   "metadata": {},
   "outputs": [
    {
     "name": "stdout",
     "output_type": "stream",
     "text": [
      "[[ 0.89 -0.1 ]\n",
      " [-2.11 -1.7 ]\n",
      " [ 3.59  2.5 ]\n",
      " [-0.71 -0.2 ]\n",
      " [ 0.49  0.6 ]\n",
      " [ 2.69  3.3 ]\n",
      " [-0.61 -0.8 ]\n",
      " [-1.61 -1.3 ]\n",
      " [-1.11 -0.8 ]\n",
      " [-1.51 -1.5 ]]\n"
     ]
    }
   ],
   "source": [
    "C = A - M\n",
    "print(C)"
   ]
  },
  {
   "cell_type": "code",
   "execution_count": 5,
   "metadata": {},
   "outputs": [
    {
     "name": "stdout",
     "output_type": "stream",
     "text": [
      "[[3.621      3.05777778]\n",
      " [3.05777778 2.85111111]]\n"
     ]
    }
   ],
   "source": [
    "# calculate covariance matrix of centered matrix\n",
    "V = cov(C.T)\n",
    "print(V)"
   ]
  },
  {
   "cell_type": "code",
   "execution_count": 6,
   "metadata": {},
   "outputs": [
    {
     "name": "stdout",
     "output_type": "stream",
     "text": [
      "[[ 0.74996813 -0.66147396]\n",
      " [ 0.66147396  0.74996813]]\n",
      "[6.31796846 0.15414265]\n"
     ]
    }
   ],
   "source": [
    "# eigendecomposition of covariance matrix\n",
    "values, vectors = eig(V)\n",
    "print(vectors)\n",
    "print(values)"
   ]
  },
  {
   "cell_type": "code",
   "execution_count": 7,
   "metadata": {},
   "outputs": [
    {
     "name": "stdout",
     "output_type": "stream",
     "text": [
      "[[ 0.60132424 -0.66370864]\n",
      " [-2.70693849  0.12076425]\n",
      " [ 4.34607049 -0.49977121]\n",
      " [-0.66477216  0.31965289]\n",
      " [ 0.76436876  0.12585863]\n",
      " [ 4.20027835  0.69552986]\n",
      " [-0.98665973 -0.19647538]\n",
      " [-2.06736484  0.09001452]\n",
      " [-1.36164379  0.1342616 ]\n",
      " [-2.12466282 -0.12612651]]\n"
     ]
    }
   ],
   "source": [
    "# project data\n",
    "P = vectors.T.dot(C.T)\n",
    "print(P.T)"
   ]
  },
  {
   "cell_type": "code",
   "execution_count": 8,
   "metadata": {},
   "outputs": [
    {
     "name": "stdout",
     "output_type": "stream",
     "text": [
      "[[ 0.74996813  0.66147396]\n",
      " [-0.66147396  0.74996813]]\n",
      "[6.31796846 0.15414265]\n",
      "[[ 0.60132424 -0.66370864]\n",
      " [-2.70693849  0.12076425]\n",
      " [ 4.34607049 -0.49977121]\n",
      " [-0.66477216  0.31965289]\n",
      " [ 0.76436876  0.12585863]\n",
      " [ 4.20027835  0.69552986]\n",
      " [-0.98665973 -0.19647538]\n",
      " [-2.06736484  0.09001452]\n",
      " [-1.36164379  0.1342616 ]\n",
      " [-2.12466282 -0.12612651]]\n"
     ]
    }
   ],
   "source": [
    "from sklearn.decomposition import PCA\n",
    "\n",
    "pca = PCA(2)\n",
    "pca.fit_transform(A)\n",
    "print(pca.components_)\n",
    "print(pca.explained_variance_)\n",
    "# transform data\n",
    "B = pca.transform(A)\n",
    "print(B)"
   ]
  },
  {
   "cell_type": "code",
   "execution_count": null,
   "metadata": {},
   "outputs": [],
   "source": []
  }
 ],
 "metadata": {
  "kernelspec": {
   "display_name": "Python 3",
   "language": "python",
   "name": "python3"
  },
  "language_info": {
   "codemirror_mode": {
    "name": "ipython",
    "version": 3
   },
   "file_extension": ".py",
   "mimetype": "text/x-python",
   "name": "python",
   "nbconvert_exporter": "python",
   "pygments_lexer": "ipython3",
   "version": "3.8.3"
  }
 },
 "nbformat": 4,
 "nbformat_minor": 4
}
